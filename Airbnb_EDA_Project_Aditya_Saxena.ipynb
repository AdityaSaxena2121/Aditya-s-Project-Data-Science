{
  "nbformat": 4,
  "nbformat_minor": 0,
  "metadata": {
    "colab": {
      "private_outputs": true,
      "provenance": [],
      "collapsed_sections": [
        "gIfDvo9L0UH2"
      ]
    },
    "kernelspec": {
      "name": "python3",
      "display_name": "Python 3"
    },
    "language_info": {
      "name": "python"
    }
  },
  "cells": [
    {
      "cell_type": "markdown",
      "source": [
        "# **Project Name**    -\n",
        "\n"
      ],
      "metadata": {
        "id": "vncDsAP0Gaoa"
      }
    },
    {
      "cell_type": "markdown",
      "source": [
        "##### **Project Type**    - AirBnb Bookings Analysis - Exploratory Data Analysis\n",
        "##### **Contribution**    - Individual\n",
        "##### **Team Member 1 -Aditya Saxena"
      ],
      "metadata": {
        "id": "beRrZCGUAJYm"
      }
    },
    {
      "cell_type": "markdown",
      "source": [
        "# **Project Summary -**"
      ],
      "metadata": {
        "id": "FJNUwmbgGyua"
      }
    },
    {
      "cell_type": "markdown",
      "source": [
        "Write the summary here within 500-600 words.\n",
        "\n",
        "Airbnb has become a popular way for people to rent out their homes or find a place to stay. In this project, we look closely at the data from Airbnb to learn about where listings are located, how much they cost, what guests like, and what makes hosts successful.\n",
        "\n",
        "This project aims to analyze Airbnb data to gain insights into customer preferences, top hosts and preferred accommodations. By using data analysis tools and techniques, we explore various aspects such as distribution of listings, pricing patterns, customer reviews, and factors affecting host revenue. The findings from this analysis can provide valuable information for hosts to optimize their listings, for customers to make informed decisions, and for policymakers to understand the impact on local housing markets.\n",
        "\n",
        "First, we look at average prices for different types of accommodations (private room, entire home/apt)? the average prices for different types of accommodations, namely private rooms and entire home/apartments, within the Airbnb platform. The pricing of accommodations plays a crucial role in influencing booking decisions and revenue generation for hosts. By analyzing data from Airbnb listings, we seek to uncover patterns and trends in pricing across these two accommodation types.\n",
        "\n",
        "Next, we dive into listings. Who are the top hosts in terms of the number of listings they manage? Airbnb platform in terms of the number of listings they manage. Hosts play a pivotal role in shaping the Airbnb experience, as they are responsible for providing accommodations and hospitality to guests.\n",
        "\n",
        "Next, we dive into understanding Client Preferences in Accommodation Types to analyze client preferences regarding different types of accommodations, including private rooms, shared rooms, and entire homes/apartments. By understanding which accommodation types are most preferred by clients, businesses in the hospitality industry can tailor their offerings to better meet customer demands and enhance customer satisfaction.\n",
        "\n",
        "Next, we dive into understanding Client Preferences in Accommodation Locations to identify the most preferred area and location by clients for accommodation bookings. By analyzing customer preferences in terms of location, businesses in the hospitality industry can better understand where clients prefer to stay and tailor their offerings accordingly to meet customer demands.\n",
        "\n",
        "Next, we dive into analyzing accommodation Availability Across Locations to analyze the availability of accommodations across different locations and identify the areas with the highest and lowest availability. By understanding availability patterns, businesses in the hospitality industry can optimize their inventory management, pricing strategies, and marketing efforts to meet customer demand effectively and maximize revenue.\n",
        "\n",
        "By analyzing data from Airbnb listings, we aim to identify and profile the most prolific hosts, shedding light on their practices, strategies, and impact on the short-term rental market. Finally, we look at what makes hosts successful. We analyze factors like how well their listing is described, how often their place is available, and how competitive their prices are. By understanding these factors, hosts can make changes to earn more money. This project gives insights into how Airbnb works for both hosts and guests. Hosts can learn how to improve their listings to attract more guests and earn more money. Guests can learn what to look for when booking a place. Policymakers can also use this information to make rules that benefit everyone involved. This study shows how data can help us understand and improve the world of short-term rentals.\n",
        "\n"
      ],
      "metadata": {
        "id": "F6v_1wHtG2nS"
      }
    },
    {
      "cell_type": "markdown",
      "source": [
        "# **GitHub Link -**"
      ],
      "metadata": {
        "id": "w6K7xa23Elo4"
      }
    },
    {
      "cell_type": "markdown",
      "source": [
        "Provide your GitHub Link here."
      ],
      "metadata": {
        "id": "h1o69JH3Eqqn"
      }
    },
    {
      "cell_type": "markdown",
      "source": [
        "# **Problem Statement**\n"
      ],
      "metadata": {
        "id": "yQaldy8SH6Dl"
      }
    },
    {
      "cell_type": "markdown",
      "source": [
        "**Write Problem Statement Here.**\n",
        "\n",
        "The project aims to provide actionable insights that can be utilized by Airbnb hosts to enhance their hosting practices and improve guest experiences. By leveraging data analysis techniques, hosts can optimize their listings, attract more guests, and ultimately increase their earnings on the platform. Additionally, this project will contribute to a better understanding of customer preferences and behaviors in the short-term rental market.\n",
        "Understanding Airbnb data and its implications can benefit both hosts and guests on the platform. Hosts can optimize their listings to attract more guests and increase revenue, while guests can enjoy improved experiences by selecting accommodations that align with their preferences. Furthermore, policymakers and industry stakeholders can utilize these insights to make informed decisions that support the growth and sustainability of the short-term rental market.\n",
        "\n"
      ],
      "metadata": {
        "id": "DpeJGUA3kjGy"
      }
    },
    {
      "cell_type": "markdown",
      "source": [
        "#### **Define Your Business Objective?**"
      ],
      "metadata": {
        "id": "PH-0ReGfmX4f"
      }
    },
    {
      "cell_type": "markdown",
      "source": [
        "Answer Here.\n",
        "\n",
        "Help hosts figure out how much they should charge for their place on Airbnb, so they can make more money and attract more guests.\n",
        "\n",
        "Find out who's doing really well on Airbnb by managing lots of listings. We can learn from them and maybe even work together to make Airbnb even better.\n",
        "\n",
        "Understand what guests like the most when they book on Airbnb—whether it's having a private room, sharing a room, or having the whole place to themselves. This way, hosts can make their listings more appealing to guests.\n",
        "\n",
        "Figure out where everyone wants to stay when they use Airbnb. This helps hosts and property owners know where to buy or rent properties and how to market them to get more bookings.\n",
        "\n",
        "Find out where it's easy or hard to book a place on Airbnb in different areas. Hosts can adjust their availability and prices to match what guests are looking for, so they can fill up their places and make more money."
      ],
      "metadata": {
        "id": "PhDvGCAqmjP1"
      }
    },
    {
      "cell_type": "markdown",
      "source": [
        "# **General Guidelines** : -  "
      ],
      "metadata": {
        "id": "mDgbUHAGgjLW"
      }
    },
    {
      "cell_type": "markdown",
      "source": [
        "1.   Well-structured, formatted, and commented code is required.\n",
        "2.   Exception Handling, Production Grade Code & Deployment Ready Code will be a plus. Those students will be awarded some additional credits.\n",
        "     \n",
        "     The additional credits will have advantages over other students during Star Student selection.\n",
        "       \n",
        "             [ Note: - Deployment Ready Code is defined as, the whole .ipynb notebook should be executable in one go\n",
        "                       without a single error logged. ]\n",
        "\n",
        "3.   Each and every logic should have proper comments.\n",
        "4. You may add as many number of charts you want. Make Sure for each and every chart the following format should be answered.\n",
        "        \n",
        "\n",
        "```\n",
        "# Chart visualization code\n",
        "```\n",
        "            \n",
        "\n",
        "*   Why did you pick the specific chart?\n",
        "*   What is/are the insight(s) found from the chart?\n",
        "* Will the gained insights help creating a positive business impact?\n",
        "Are there any insights that lead to negative growth? Justify with specific reason.\n",
        "\n",
        "5. You have to create at least 20 logical & meaningful charts having important insights.\n",
        "\n",
        "\n",
        "[ Hints : - Do the Vizualization in  a structured way while following \"UBM\" Rule.\n",
        "\n",
        "U - Univariate Analysis,\n",
        "\n",
        "B - Bivariate Analysis (Numerical - Categorical, Numerical - Numerical, Categorical - Categorical)\n",
        "\n",
        "M - Multivariate Analysis\n",
        " ]\n",
        "\n",
        "\n",
        "\n"
      ],
      "metadata": {
        "id": "ZrxVaUj-hHfC"
      }
    },
    {
      "cell_type": "markdown",
      "source": [
        "# ***Let's Begin !***"
      ],
      "metadata": {
        "id": "O_i_v8NEhb9l"
      }
    },
    {
      "cell_type": "markdown",
      "source": [
        "## ***1. Know Your Data***"
      ],
      "metadata": {
        "id": "HhfV-JJviCcP"
      }
    },
    {
      "cell_type": "markdown",
      "source": [
        "### Import Libraries"
      ],
      "metadata": {
        "id": "Y3lxredqlCYt"
      }
    },
    {
      "cell_type": "code",
      "source": [
        "# Import Libraries\n",
        "import matplotlib.pyplot as plt\n",
        "import seaborn as sns\n",
        "import numpy as np #Numpy Library - used for\n",
        "import pandas as pd #Pandas Library"
      ],
      "metadata": {
        "id": "M8Vqi-pPk-HR"
      },
      "execution_count": null,
      "outputs": []
    },
    {
      "cell_type": "markdown",
      "source": [
        "### Dataset Loading"
      ],
      "metadata": {
        "id": "3RnN4peoiCZX"
      }
    },
    {
      "cell_type": "code",
      "source": [
        "# Load Dataset\n",
        "\n",
        "url = 'https://drive.google.com/uc?id=1iwYbhVcKE4Ze70rz-U37biPOkIFP7Tej'\n",
        "\n",
        "df=pd.read_csv(url)"
      ],
      "metadata": {
        "id": "4CkvbW_SlZ_R"
      },
      "execution_count": null,
      "outputs": []
    },
    {
      "cell_type": "markdown",
      "source": [
        "### Dataset First View"
      ],
      "metadata": {
        "id": "x71ZqKXriCWQ"
      }
    },
    {
      "cell_type": "code",
      "source": [
        "# Dataset First Look\n",
        "\n",
        "df.head(5) #It will return first 5 rows of data\n"
      ],
      "metadata": {
        "id": "LWNFOSvLl09H"
      },
      "execution_count": null,
      "outputs": []
    },
    {
      "cell_type": "markdown",
      "source": [
        "### Dataset Rows & Columns count"
      ],
      "metadata": {
        "id": "7hBIi_osiCS2"
      }
    },
    {
      "cell_type": "code",
      "source": [
        "# Dataset Rows & Columns count\n",
        "\n",
        "df.shape #Function to count row and column"
      ],
      "metadata": {
        "id": "Kllu7SJgmLij"
      },
      "execution_count": null,
      "outputs": []
    },
    {
      "cell_type": "markdown",
      "source": [
        "### Dataset Information"
      ],
      "metadata": {
        "id": "JlHwYmJAmNHm"
      }
    },
    {
      "cell_type": "code",
      "source": [
        "# Dataset Info\n",
        "\n",
        "df.info() #It return non null values in column"
      ],
      "metadata": {
        "id": "e9hRXRi6meOf"
      },
      "execution_count": null,
      "outputs": []
    },
    {
      "cell_type": "markdown",
      "source": [
        "#### Duplicate Values"
      ],
      "metadata": {
        "id": "35m5QtbWiB9F"
      }
    },
    {
      "cell_type": "code",
      "source": [
        "# Dataset Duplicate Value Count\n",
        "\n",
        "dup_count = df.duplicated().sum() #This function will count duplicated rows in entire dataset\n",
        "\n",
        "print(dup_count)"
      ],
      "metadata": {
        "id": "1sLdpKYkmox0"
      },
      "execution_count": null,
      "outputs": []
    },
    {
      "cell_type": "markdown",
      "source": [
        "#### Missing Values/Null Values"
      ],
      "metadata": {
        "id": "PoPl-ycgm1ru"
      }
    },
    {
      "cell_type": "code",
      "source": [
        "# Missing Values/Null Values Count\n",
        "\n",
        "missing_value = df.isnull().sum().sum() #This function will count missing value in entire datset\n",
        "\n",
        "print(f\"missing_value: {missing_value}\")\n"
      ],
      "metadata": {
        "id": "GgHWkxvamxVg"
      },
      "execution_count": null,
      "outputs": []
    },
    {
      "cell_type": "code",
      "source": [
        "# Visualizing the missing values"
      ],
      "metadata": {
        "id": "3q5wnI3om9sJ"
      },
      "execution_count": null,
      "outputs": []
    },
    {
      "cell_type": "markdown",
      "source": [
        "### What did you know about your dataset?"
      ],
      "metadata": {
        "id": "H0kj-8xxnORC"
      }
    },
    {
      "cell_type": "markdown",
      "source": [
        "Answer Here\n",
        "In Airbnb dataset, we have got information about various aspects of listings and bookings on the platform. This includes details such as property type (e.g., entire home/apartment, private room, shared room), location (e.g., city, neighborhood), pricing, availability, and more. The dataset likely consists of multiple rows, each representing a unique listing, and columns representing different attributes or features of those listings. Overall, our dataset provides a comprehensive view of the Airbnb ecosystem, allowing us to analyze trends, patterns, and insights to optimize pricing, improve guest experiences, and inform strategic decisions for hosts and property managers."
      ],
      "metadata": {
        "id": "gfoNAAC-nUe_"
      }
    },
    {
      "cell_type": "markdown",
      "source": [
        "## ***2. Understanding Your Variables***"
      ],
      "metadata": {
        "id": "nA9Y7ga8ng1Z"
      }
    },
    {
      "cell_type": "code",
      "source": [
        "# Dataset Columns\n",
        "\n",
        "df.columns"
      ],
      "metadata": {
        "id": "j7xfkqrt5Ag5"
      },
      "execution_count": null,
      "outputs": []
    },
    {
      "cell_type": "code",
      "source": [
        "# Dataset Describe\n",
        "\n",
        "df.describe()"
      ],
      "metadata": {
        "id": "DnOaZdaE5Q5t"
      },
      "execution_count": null,
      "outputs": []
    },
    {
      "cell_type": "markdown",
      "source": [
        "### Variables Description"
      ],
      "metadata": {
        "id": "PBTbrJXOngz2"
      }
    },
    {
      "cell_type": "markdown",
      "source": [
        "Answer Here\n",
        "\n",
        "id: Unique identifier for each listing.\n",
        "\n",
        "name: Name of the listing provided by the host.\n",
        "\n",
        "host_id: Unique identifier for the host of the listing.\n",
        "\n",
        "host_name: Name of the host.\n",
        "\n",
        "neighbourhood_group: Location of the listing categorized into groups (e.g., boroughs in a city).\n",
        "\n",
        "neighborhood: Specific area or neighborhood of the listing.\n",
        "\n",
        "latitude: Latitude coordinate of the listing location.\n",
        "\n",
        "longitude: Longitude coordinate of the listing location.\n",
        "\n",
        "room_type: Type of accommodation offered in the listing (e.g., private room, entire home/apartment).\n",
        "\n",
        "price: Price of the listing per night.\n",
        "\n",
        "minimum_nights: Minimum number of nights required for booking the listing.\n",
        "\n",
        "number_of_reviews: Total number of reviews received for the listing.\n",
        "\n",
        "Last_review: Date and content of the last review received for the listing.\n",
        "\n",
        "reviews_per_month: Average number of reviews received per month for the listing.\n",
        "\n",
        "calculated_host_listings_count: Total number of listings managed by the host.\n",
        "\n",
        "availability_365: Number of days the listing is available for booking within a year.\n",
        "\n"
      ],
      "metadata": {
        "id": "aJV4KIxSnxay"
      }
    },
    {
      "cell_type": "markdown",
      "source": [
        "### Check Unique Values for each variable."
      ],
      "metadata": {
        "id": "u3PMJOP6ngxN"
      }
    },
    {
      "cell_type": "code",
      "source": [
        "# Check Unique Values for each variable.\n",
        "\n",
        "# Check Unique Values for each variable.\n",
        "\n",
        "for i in df.columns: #It will iterate over columns of df dataset\n",
        "\n",
        "    uniq_val = df[i].unique() #This function will return uniques values\n",
        "\n",
        "    print(\"Unique values for column \", i, \":\") #print column name\n",
        "    print(uniq_val)\n",
        "    print(\"Total unique values:\", len(uniq_val))  #print total unique values\n",
        "    print()  #This us added here to add one space between unique values of each columns\n"
      ],
      "metadata": {
        "id": "zms12Yq5n-jE"
      },
      "execution_count": null,
      "outputs": []
    },
    {
      "cell_type": "markdown",
      "source": [
        "## 3. ***Data Wrangling***"
      ],
      "metadata": {
        "id": "dauF4eBmngu3"
      }
    },
    {
      "cell_type": "markdown",
      "source": [
        "### Data Wrangling Code"
      ],
      "metadata": {
        "id": "bKJF3rekwFvQ"
      }
    },
    {
      "cell_type": "code",
      "source": [
        "# Write your code to make your dataset analysis ready.\n",
        "\n",
        "#Objective 1. What are the average prices for different types of accommodations (private room, entire home/apt)?\n",
        "print(\"Objeective 1. What are the average prices for different types of accommodations (private room, entire home/apt)?\")\n",
        "print()\n",
        "df['Price_per_night'] = df['price']/df['minimum_nights']  #Create extra column here to get price of room per night\n",
        "\n",
        "pvt_rooms = df[df['room_type']=='Private room']   # Filtering room = private room\n",
        "\n",
        "avg_private = pvt_rooms['Price_per_night'].mean()  #Getting average price of private room\n",
        "\n",
        "print(f\"Average price of private room in all neighbourhood: {round(avg_private,0)}\")\n",
        "\n",
        "Shared_room = df[df['room_type']=='Shared room']  # Filtering room = Shared room\n",
        "\n",
        "avg_shared = Shared_room['Price_per_night'].mean() #Getting average price of shared room\n",
        "\n",
        "print(f\"Average price of Shared room in all neighbourhood: {round(avg_shared,0)}\")\n",
        "\n",
        "entire_home = df[df['room_type']=='Entire home/apt']  # Filtering room = Entire room\n",
        "\n",
        "avg_entire = entire_home['Price_per_night'].mean()    #Getting average price of entire home\n",
        "\n",
        "print(f\"Average price of Entire room/apt room in all neighbourhood: {round(avg_entire,0)}\")\n",
        "print()\n",
        "\n",
        "#Objective 2 Who are the top hosts in terms of the number of listings they manage?\n",
        "print(\"Objective2 Who are the top hosts in terms of the number of listings they manage?\")\n",
        "print()\n",
        "\n",
        "#Top host for private room\n",
        "p_r = df[df['room_type']=='Private room']\n",
        "\n",
        "host_Pvt_room = p_r['host_name'].value_counts()  #Getting the counts of host who sell private rooms\n",
        "\n",
        "max_host = host_Pvt_room.idxmax()   #Getting the top most host who sell private rooms\n",
        "\n",
        "print(f\"Top host in private rooms: {max_host}\")\n",
        "\n",
        "\n",
        "#Top host for Shared room\n",
        "p_r_a = df[df['room_type']=='Shared room']\n",
        "\n",
        "host_shared_room = p_r_a['host_name'].value_counts()  #Getting the counts of host who sell shared rooms\n",
        "\n",
        "max_host_shared = host_shared_room.idxmax()      #Getting the top most host who sell shared rooms\n",
        "\n",
        "print(f\"Top host in shared rooms: {max_host_shared}\")\n",
        "\n",
        "#Top host for Entire home/apt\n",
        "p_r_b = df[df['room_type']=='Entire home/apt']\n",
        "\n",
        "host_entire_room = p_r_b['host_name'].value_counts()   #Getting the counts of host who sell entire rooms\n",
        "\n",
        "max_host_entire = host_entire_room.idxmax()         #Getting the top most host who sell entire home\n",
        "\n",
        "print(f\"Top host in Entire home: {max_host_entire}\")\n",
        "\n",
        "print()\n",
        "\n",
        "#Objective 3. What are the most preferred types of accommodations (private rooms,Shared room, entire homes/apartments)?\n",
        "print(\"Objective 3.What are the most preferred types of accommodations (private rooms,Shared room, entire homes/apartments)?\")\n",
        "print()\n",
        "pvt_filter=df[df['room_type']=='Private room']  #Filtering data of private rooms\n",
        "\n",
        "add_checks_p =pvt_filter['reviews_per_month'].sum()    #Getting addition of number of times private room is used\n",
        "\n",
        "\n",
        "shared_filter=df[df['room_type']=='Shared room']  #Filtering data of Shared rooms\n",
        "\n",
        "add_check_s=shared_filter['reviews_per_month'].sum()  #Getting addition of number of times shared room is used\n",
        "\n",
        "\n",
        "Entire_filter=df[df['room_type']=='Entire home/apt']  #Filtering data of Entire home\n",
        "\n",
        "add_check_e=Entire_filter['reviews_per_month'].sum()   #Getting addition of number of times Entire home is used\n",
        "\n",
        "\n",
        "\n",
        "#Getting most preferred accommodation form here\n",
        "if add_checks_p>=add_check_s and add_checks_p>=add_check_e:\n",
        "  print(\"The most preferred types of accommodations : Private Room\")\n",
        "elif add_check_s >= add_checks_p and add_check_s >= add_check_e:\n",
        "  print(\"The most preferred types of accommodations : Shared Room\")\n",
        "else:\n",
        "  print(\"The most preferred types of accommodations : Entire room/apt\")\n",
        "print()\n",
        "\n",
        "#Objective 4.What are the most preferred area and location by clients\n",
        "print(\"Objective 4.What are the most preferred area and location by clients\")\n",
        "print()\n",
        "\n",
        "#Getting preferred location\n",
        "pre_location_c = df.loc[:,['neighbourhood_group']].value_counts() #Here getting count of maximum location used by clients\n",
        "\n",
        "pre_location_max=pre_location_c.idxmax()  #Getting maximum of location\n",
        "\n",
        "print(f\"Most preferred location by customers: {pre_location_max}\")\n",
        "\n",
        "#Getting preferred area\n",
        "\n",
        "pre_area_c = df.loc[:,['neighbourhood']].value_counts() #Here getting count of maximum area used by clients\n",
        "\n",
        "pre_area_max=pre_area_c.idxmax()  #Getting maximum of area\n",
        "\n",
        "print(f\"Most preferred area by customers: {pre_area_max}\")\n",
        "print()\n",
        "\n",
        "\n",
        "#Objective 5.Highest and lowest availability as per location\n",
        "print(\"Objective 5.Highest and lowest availability as per location\")\n",
        "print()\n",
        "\n",
        "brooklyn_a = df[df['neighbourhood_group']=='Brooklyn']  #Filtering data for Brooklyn location\n",
        "brooklyn_add=brooklyn_a['availability_365'].sum()   #Getting sum of Brooklyn location\n",
        "\n",
        "bronx_a = df[df['neighbourhood_group']=='Bronx']  #Filtering data for Bronx location\n",
        "bronx_add=bronx_a['availability_365'].sum()   #Getting sum of Bronx location\n",
        "\n",
        "manhattan_a = df[df['neighbourhood_group']=='Manhattan']  #Filtering data for Manhattan location\n",
        "manhattan_add=manhattan_a['availability_365'].sum()   #Getting sum of Manhattan location\n",
        "\n",
        "queens_a = df[df['neighbourhood_group']=='Queens']   #Filtering data for Queens location\n",
        "queens_add=queens_a['availability_365'].sum()     #Getting sum of Queens location\n",
        "\n",
        "staten_a = df[df['neighbourhood_group']=='Staten Island']  #Filtering data for Staten Island location\n",
        "staten_add=staten_a['availability_365'].sum()             #Getting sum of Staten location\n",
        "\n",
        "\n",
        "#Dictionary create to store location as key and it sum of location as values\n",
        "di = {'Brooklyn':brooklyn_add, 'Bronx':bronx_add,'Manhattan':manhattan_add,'Queens':queens_add,'Staten Island':staten_add }\n",
        "\n",
        "max_availity= max(di,key=di.get) #This get function is used to return maximum availabitlty as perlocation\n",
        "\n",
        "print(f\"Maximum availability as per location: {max_availity}\")\n",
        "\n",
        "min_availity= min(di,key=di.get)   #This get function is used to return minimum availabitlty as perlocation\n",
        "\n",
        "print(f\"Minimum availability as per location: {min_availity}\")\n"
      ],
      "metadata": {
        "id": "wk-9a2fpoLcV"
      },
      "execution_count": null,
      "outputs": []
    },
    {
      "cell_type": "markdown",
      "source": [
        "### What all manipulations have you done and insights you found?"
      ],
      "metadata": {
        "id": "MSa1f5Uengrz"
      }
    },
    {
      "cell_type": "markdown",
      "source": [
        "Answer Here.\n",
        "\n",
        "Average Prices for Different Types of Accommodations:\n",
        "\n",
        "Calculated the average prices for private rooms, shared rooms, and entire homes/apartments across all neighborhoods.\n",
        "\n",
        "Insight: Entire homes/apartments have the highest average price, followed by private rooms and shared rooms. This suggests that guests are willing to pay more for the privacy and amenities offered by entire accommodations.\n",
        "Top Hosts in Terms of the Number of Listings They Manage:\n",
        "\n",
        "Identified the hosts with the highest number of listings in each category: private rooms, shared rooms, and entire homes.\n",
        "\n",
        "Insight: Certain hosts, such as David, Sergii, and Sonder (NYC), manage a significant number of listings, indicating their prominence in the Airbnb market. This could be due to factors such as reputation, property management skills, or the size of their property portfolio.\n",
        "Most Preferred Types of Accommodations:\n",
        "\n",
        "Determined which type of accommodation (private rooms, shared rooms, or entire homes/apartments) is most preferred by guests.\n",
        "\n",
        "Insight: Entire homes/apartments are the most preferred type of accommodation. This preference could be driven by factors such as privacy, convenience, and amenities available in entire accommodations.\n",
        "Most Preferred Area and Location by Clients:\n",
        "\n",
        "Identified the most preferred location and area based on customer preferences.\n",
        "\n",
        "Insight: Customers prefer staying in Manhattan and Williamsburg, suggesting that these areas offer desirable amenities, attractions, and convenience for Airbnb guests. Factors such as proximity to popular landmarks, transportation options, and safety may influence these preferences.\n",
        "Highest and Lowest Availability as per Location:\n",
        "\n",
        "Determined the locations with the highest and lowest availability of Airbnb listings.\n",
        "\n",
        "Insight: Manhattan has the highest availability of listings, indicating a high demand for accommodations in this area. Conversely, Staten Island has the lowest availability, which may suggest lower demand or fewer properties available for rent in this location."
      ],
      "metadata": {
        "id": "LbyXE7I1olp8"
      }
    },
    {
      "cell_type": "markdown",
      "source": [
        "## ***4. Data Vizualization, Storytelling & Experimenting with charts : Understand the relationships between variables***"
      ],
      "metadata": {
        "id": "GF8Ens_Soomf"
      }
    },
    {
      "cell_type": "markdown",
      "source": [
        "#### Chart - 1"
      ],
      "metadata": {
        "id": "0wOQAZs5pc--"
      }
    },
    {
      "cell_type": "code",
      "source": [
        "# Chart - 1 visualization code\n",
        "\n",
        "avg_price_vis = [round(avg_private,0),round(avg_shared,0),round(avg_entire,0)] #Getting the average prces of room from above wrangling code\n",
        "room_types_vis = ['Private Room', 'Shared Room', 'Entire Home/Apt']  #Room types\n",
        "\n",
        "\n",
        "plt.bar(room_types_vis,avg_price_vis,width=0.5)  #Plotting bar chart\n",
        "plt.ylim([10, 100])  #This function is ues to set limit of y axis\n",
        "plt.ylabel(\"Average Price\") #Title of y axis\n",
        "plt.xlabel(\"Room type\")  #Title of x axis\n",
        "plt.title(\"Average prices of room types\") #Title of graph\n",
        "plt.show()\n"
      ],
      "metadata": {
        "id": "7v_ESjsspbW7"
      },
      "execution_count": null,
      "outputs": []
    },
    {
      "cell_type": "markdown",
      "source": [
        "##### 1. Why did you pick the specific chart?\n",
        "\n"
      ],
      "metadata": {
        "id": "K5QZ13OEpz2H"
      }
    },
    {
      "cell_type": "markdown",
      "source": [
        "Answer Here. I chose a bar chart because it's a good way to show the average prices of listing types.When you look at the chart, you can easily see which listing is cheap and which is costly because the bars are different heights.Bar chart is a good choice because it's easy to understand and compare them."
      ],
      "metadata": {
        "id": "XESiWehPqBRc"
      }
    },
    {
      "cell_type": "markdown",
      "source": [
        "##### 2. What is/are the insight(s) found from the chart?"
      ],
      "metadata": {
        "id": "lQ7QKXXCp7Bj"
      }
    },
    {
      "cell_type": "markdown",
      "source": [
        "Answer Here\n",
        "The most expensive entire home/apartment on Airbnb and the cheapest shared room."
      ],
      "metadata": {
        "id": "C_j1G7yiqdRP"
      }
    },
    {
      "cell_type": "markdown",
      "source": [
        "##### 3. Will the gained insights help creating a positive business impact?\n",
        "Are there any insights that lead to negative growth? Justify with specific reason."
      ],
      "metadata": {
        "id": "448CDAPjqfQr"
      }
    },
    {
      "cell_type": "markdown",
      "source": [
        "Answer Here. Hosts can use the average prices as benchmarks to set competitive rates for their listings. By aligning their prices with the market average, hosts can attract more guests and potentially increase their bookings and revenue.\n",
        "\n",
        "In simpler terms, if hosts set their prices much higher or lower than the average, they might have trouble getting guests. If prices are way too high, people on a budget might not book, and if they're too low, guests might wonder if there's something wrong with the place. This could mean fewer bookings and less money for hosts. It's important for hosts to find a balance and set prices that are fair and competitive."
      ],
      "metadata": {
        "id": "3cspy4FjqxJW"
      }
    },
    {
      "cell_type": "markdown",
      "source": [
        "#### Chart - 2"
      ],
      "metadata": {
        "id": "KSlN3yHqYklG"
      }
    },
    {
      "cell_type": "code",
      "source": [
        "# Chart - 2 visualization code\n",
        "\n",
        "room_types_vis = ['David(Private Rooms)', 'Sergii(Shared Rooms)', 'Sonder(Entire Homes)']  #Names of top host in terms of listing, got this from above data wrangling\n",
        "\n",
        "pvt_c=host_Pvt_room.max()   #Getting max count of top host in private rooms\n",
        "sh_c=host_shared_room.max()   #Getting max count of top host in shared rooms\n",
        "ent_c=host_entire_room.max()   #Getting max count of top host in shared rooms\n",
        "\n",
        "max_room_count = [pvt_c,sh_c,ent_c]\n",
        "\n",
        "plt.bar(room_types_vis,max_room_count,width=0.5,color = 'skyblue')\n",
        "plt.ylabel(\"Room count sell by host\") #Title of y axis\n",
        "plt.xlabel(\"Top host : Room type\")  #Title of x axis\n",
        "plt.title(\"Count of top host in terms of listing\") #Title of graph\n",
        "plt.show()\n",
        "\n",
        "\n"
      ],
      "metadata": {
        "id": "R4YgtaqtYklH"
      },
      "execution_count": null,
      "outputs": []
    },
    {
      "cell_type": "markdown",
      "source": [
        "##### 1. Why did you pick the specific chart?"
      ],
      "metadata": {
        "id": "t6dVpIINYklI"
      }
    },
    {
      "cell_type": "markdown",
      "source": [
        "Answer Here. A bar chart allows us to compare the counts of different room types ith respect to top host. Each bar represents a top host within specific listing."
      ],
      "metadata": {
        "id": "5aaW0BYyYklI"
      }
    },
    {
      "cell_type": "markdown",
      "source": [
        "##### 2. What is/are the insight(s) found from the chart?"
      ],
      "metadata": {
        "id": "ijmpgYnKYklI"
      }
    },
    {
      "cell_type": "markdown",
      "source": [
        "Answer Here. The top host in terms of the number of listings managed for private rooms is David.\n",
        "\n",
        "Sergii is identified as the top host for shared rooms\n",
        "\n",
        "Sonder (NYC) is recognized as the top host for entire homes/apartments, managing the most number of listings from all three accommodation type."
      ],
      "metadata": {
        "id": "PSx9atu2YklI"
      }
    },
    {
      "cell_type": "markdown",
      "source": [
        "##### 3. Will the gained insights help creating a positive business impact?\n",
        "Are there any insights that lead to negative growth? Justify with specific reason."
      ],
      "metadata": {
        "id": "-JiQyfWJYklI"
      }
    },
    {
      "cell_type": "markdown",
      "source": [
        "Answer Here\n",
        "\n",
        "Being recognized as a top host can enhance the reputation of hosts on the Airbnb platform, potentially attracting more guests and increasing bookings.\n",
        "\n",
        "The presence of top hosts with a large number of listings may increase competition for other hosts, making it more challenging for them to attract guests and secure bookings."
      ],
      "metadata": {
        "id": "BcBbebzrYklV"
      }
    },
    {
      "cell_type": "markdown",
      "source": [
        "#### Chart - 3"
      ],
      "metadata": {
        "id": "EM7whBJCYoAo"
      }
    },
    {
      "cell_type": "code",
      "source": [
        "# Chart - 3 visualization code\n",
        "\n",
        "room_counts = df['room_type'].value_counts() #It will return count of specific listing.\n",
        "\n",
        "\n",
        "room_counts.plot(kind='pie') #This function is used here to plot pie chart\n",
        "plt.title('Most preferes type of Listing by customers') #This is used to put title of graph\n",
        "plt.ylabel('') #Due to pandas function, count word is printed on y axis of chart so to remove that is used this function\n",
        "\n",
        "plt.show() #This is used to show graph as output"
      ],
      "metadata": {
        "id": "t6GMdE67YoAp"
      },
      "execution_count": null,
      "outputs": []
    },
    {
      "cell_type": "markdown",
      "source": [
        "##### 1. Why did you pick the specific chart?"
      ],
      "metadata": {
        "id": "fge-S5ZAYoAp"
      }
    },
    {
      "cell_type": "markdown",
      "source": [
        "Answer Here. I have used pie chart is an effective way to visualize the distribution of count of accommodation types. Here's how you can easily interpret the pie chart to determine the most preferred type of accommodation"
      ],
      "metadata": {
        "id": "5dBItgRVYoAp"
      }
    },
    {
      "cell_type": "markdown",
      "source": [
        "##### 2. What is/are the insight(s) found from the chart?"
      ],
      "metadata": {
        "id": "85gYPyotYoAp"
      }
    },
    {
      "cell_type": "markdown",
      "source": [
        "Answer Here Largest slice reprsenting \"Entire Homes/Apartments\" , it suggests that this type of accommodation is the most preferred among the customers."
      ],
      "metadata": {
        "id": "4jstXR6OYoAp"
      }
    },
    {
      "cell_type": "markdown",
      "source": [
        "##### 3. Will the gained insights help creating a positive business impact?\n",
        "Are there any insights that lead to negative growth? Justify with specific reason."
      ],
      "metadata": {
        "id": "RoGjAbkUYoAp"
      }
    },
    {
      "cell_type": "markdown",
      "source": [
        "Answer Here. \"Entire Homes/Apartments\" are the most preferred type of accommodation hosts focus on expanding their portfolio of entire homes/apartments or investing resources in improving the quality and amenities of such accommodations.\n",
        "\n",
        "if host exclusively offer entire homes/apartments without catering to other segments, they may limit their market reach so they should focus on other listings too."
      ],
      "metadata": {
        "id": "zfJ8IqMcYoAp"
      }
    },
    {
      "cell_type": "markdown",
      "source": [
        "#### Chart - 4"
      ],
      "metadata": {
        "id": "4Of9eVA-YrdM"
      }
    },
    {
      "cell_type": "code",
      "source": [
        "# Chart - 4 visualization code\n",
        "\n",
        "pre_location_c = df.loc[:,['neighbourhood_group']].value_counts()  #Getting count as per location\n",
        "\n",
        "pre_location_c_reset = pre_location_c.reset_index() #To convert data into 2D structure\n",
        "\n",
        "pre_location_c_reset.columns = ['location', 'count']  # Rename columns\n",
        "\n",
        "\n",
        "plt.scatter(pre_location_c_reset['location'], pre_location_c_reset['count']) # Plotting the scatter plot\n",
        "\n",
        "# Adding labels and title\n",
        "plt.xlabel('Neighbourhood Group(Location)')\n",
        "plt.ylabel('Count of location')\n",
        "plt.title('Counts of Accommodations in Each Neighbourhood Group')\n",
        "\n",
        "plt.show()"
      ],
      "metadata": {
        "id": "irlUoxc8YrdO"
      },
      "execution_count": null,
      "outputs": []
    },
    {
      "cell_type": "markdown",
      "source": [
        "##### 1. Why did you pick the specific chart?"
      ],
      "metadata": {
        "id": "iky9q4vBYrdO"
      }
    },
    {
      "cell_type": "markdown",
      "source": [
        "Answer Here. Scatter charts are used to visualize the relationship between two continuous variables. In this case, since i'am looking to identify the most preferred location based on frequency counts so i have used scatter graph"
      ],
      "metadata": {
        "id": "aJRCwT6DYrdO"
      }
    },
    {
      "cell_type": "markdown",
      "source": [
        "##### 2. What is/are the insight(s) found from the chart?"
      ],
      "metadata": {
        "id": "F6T5p64dYrdO"
      }
    },
    {
      "cell_type": "markdown",
      "source": [
        "Answer Here. By observing the concentration of points on the scatter chart, we can esily identify the location with the highest density of bookings or visits is Manhattan and location with least booking is Staten Island"
      ],
      "metadata": {
        "id": "Xx8WAJvtYrdO"
      }
    },
    {
      "cell_type": "markdown",
      "source": [
        "##### 3. Will the gained insights help creating a positive business impact?\n",
        "Are there any insights that lead to negative growth? Justify with specific reason."
      ],
      "metadata": {
        "id": "y-Ehk30pYrdP"
      }
    },
    {
      "cell_type": "markdown",
      "source": [
        "Answer Here. Understanding the most preferred locations by clients allows businesses to focus their marketing efforts more effectively. They can tailor their advertising campaigns to target specific demographics or geographic areas, leading to increased brand awareness and customer engagement.\n",
        "\n",
        "Focusing solely on the most preferred locations identified in the scatter chart may lead to neglecting underperforming areas. Ignoring these areas can result in missed opportunities for growth and revenue generation."
      ],
      "metadata": {
        "id": "jLNxxz7MYrdP"
      }
    },
    {
      "cell_type": "markdown",
      "source": [
        "#### Chart - 5"
      ],
      "metadata": {
        "id": "bamQiAODYuh1"
      }
    },
    {
      "cell_type": "code",
      "source": [
        "# Chart - 5 visualization code\n",
        "\n",
        "co_Avail_loc = [brooklyn_add,bronx_add,manhattan_add,queens_add,staten_add] #Getting count of location from above wrangling code\n",
        "location_a = ['brooklyn','bronx_add','manhattan','queens','staten'] #Name of location\n",
        "\n",
        "plt.bar(location_a, co_Avail_loc,color='Violet') #Plotting bar chart\n",
        "# Adding labels and title\n",
        "plt.xlabel('location')\n",
        "plt.ylabel('Count')\n",
        "plt.title(\"Availability as per location\")\n",
        "plt.show()"
      ],
      "metadata": {
        "id": "TIJwrbroYuh3"
      },
      "execution_count": null,
      "outputs": []
    },
    {
      "cell_type": "markdown",
      "source": [
        "##### 1. Why did you pick the specific chart?"
      ],
      "metadata": {
        "id": "QHF8YVU7Yuh3"
      }
    },
    {
      "cell_type": "markdown",
      "source": [
        "Answer Here. A bar chart allows us to compare the counts of different location with respect to availability. Each bar represents a availability within specific location."
      ],
      "metadata": {
        "id": "dcxuIMRPYuh3"
      }
    },
    {
      "cell_type": "markdown",
      "source": [
        "##### 2. What is/are the insight(s) found from the chart?"
      ],
      "metadata": {
        "id": "GwzvFGzlYuh3"
      }
    },
    {
      "cell_type": "markdown",
      "source": [
        "Answer Here. By observing the bars on the bar chart, we can esily identify the location with the highest availability is manhattan and location with least availability is Staten Island."
      ],
      "metadata": {
        "id": "uyqkiB8YYuh3"
      }
    },
    {
      "cell_type": "markdown",
      "source": [
        "##### 3. Will the gained insights help creating a positive business impact?\n",
        "Are there any insights that lead to negative growth? Justify with specific reason."
      ],
      "metadata": {
        "id": "qYpmQ266Yuh3"
      }
    },
    {
      "cell_type": "markdown",
      "source": [
        "Answer Here. Businesses can allocate more resources, such as inventory or staff, to the Manhattan location where there is higher availability, thus maximizing potential sales and customer satisfaction.\n",
        "\n",
        "Focusing solely on Manhattan due to its high availability might lead to neglect of other locations, such as Staten Island. If not managed carefully, this could lead to decreased customer satisfaction and loyalty in those areas, ultimately resulting in negative growth."
      ],
      "metadata": {
        "id": "_WtzZ_hCYuh4"
      }
    },
    {
      "cell_type": "markdown",
      "source": [
        "#### Chart - 6"
      ],
      "metadata": {
        "id": "OH-pJp9IphqM"
      }
    },
    {
      "cell_type": "code",
      "source": [
        "\n",
        "# Extract latitude and longitude from the data\n",
        "latitude = df['latitude']\n",
        "\n",
        "longitude = df['longitude']\n",
        "\n",
        "# Plotting the scatter plot, axis and label\n",
        "\n",
        "plt.scatter(longitude, latitude, color='blue')\n",
        "plt.title('Geographical Distribution of Listings')\n",
        "plt.xlabel('Longitude')\n",
        "plt.ylabel('Latitude')\n",
        "plt.grid(True) #To add grid in graph\n",
        "plt.show()"
      ],
      "metadata": {
        "id": "kuRf4wtuphqN"
      },
      "execution_count": null,
      "outputs": []
    },
    {
      "cell_type": "markdown",
      "source": [
        "##### 1. Why did you pick the specific chart?"
      ],
      "metadata": {
        "id": "bbFf2-_FphqN"
      }
    },
    {
      "cell_type": "markdown",
      "source": [
        "Answer Here.\n",
        "\n",
        "For the scatter plot of latitude vs. longitude, it's a good choice when visualizing geographical data because it allows you to directly map points on a two-dimensional plane using latitude and longitude coordinates."
      ],
      "metadata": {
        "id": "loh7H2nzphqN"
      }
    },
    {
      "cell_type": "markdown",
      "source": [
        "##### 2. What is/are the insight(s) found from the chart?"
      ],
      "metadata": {
        "id": "_ouA3fa0phqN"
      }
    },
    {
      "cell_type": "markdown",
      "source": [
        "Answer Here\n",
        "\n",
        "By observing clusters of points on the scatter plot, you can identify areas with a high concentration of listings. Dense clusters suggest popular neighborhoods or regions where there's a high demand for accommodation."
      ],
      "metadata": {
        "id": "VECbqPI7phqN"
      }
    },
    {
      "cell_type": "markdown",
      "source": [
        "##### 3. Will the gained insights help creating a positive business impact?\n",
        "Are there any insights that lead to negative growth? Justify with specific reason."
      ],
      "metadata": {
        "id": "Seke61FWphqN"
      }
    },
    {
      "cell_type": "markdown",
      "source": [
        "Answer Here\n",
        "Understanding the concentration of listings in certain geographical areas allows businesses to focus their marketing efforts more effectively. They can tailor promotional campaigns to specific neighborhoods or regions where there's a high demand for accommodation,\n",
        "\n",
        "Disparities in listing distribution across different geographical regions could result in uneven revenue streams. If businesses disproportionately invest in high-demand areas while neglecting others, it may lead to imbalanced growth and missed opportunities in underserved markets."
      ],
      "metadata": {
        "id": "DW4_bGpfphqN"
      }
    },
    {
      "cell_type": "markdown",
      "source": [
        "#### Chart - 7"
      ],
      "metadata": {
        "id": "PIIx-8_IphqN"
      }
    },
    {
      "cell_type": "code",
      "source": [
        "# Chart - 7 visualization code\n",
        "\n",
        "room_counta = df['room_type'].value_counts() #Gettting the count of room type\n",
        "\n",
        "neighbour_count = df['neighbourhood_group'].value_counts() #Getting count of location\n",
        "\n",
        "counts = df.groupby(['neighbourhood_group', 'room_type']).size().unstack(fill_value=0) #Group function , group unique value , unstack will convert data into multidimensional\n",
        "\n",
        "counts.plot(kind='bar') #This function is used here to plot bar graph\n",
        "plt.title('Counts of Room Types by Neighbourhood Group')  #This is used to put title of graph\n",
        "plt.xlabel('Neighbourhood Group')  #Title for x-axis\n",
        "plt.ylabel('Count')  #Title for y-axis\n",
        "\n",
        "plt.legend(title='Room Type') #Legend : use to show title of legend\n",
        "\n",
        "plt.show()"
      ],
      "metadata": {
        "id": "lqAIGUfyphqO"
      },
      "execution_count": null,
      "outputs": []
    },
    {
      "cell_type": "markdown",
      "source": [
        "##### 1. Why did you pick the specific chart?"
      ],
      "metadata": {
        "id": "t27r6nlMphqO"
      }
    },
    {
      "cell_type": "markdown",
      "source": [
        "Answer Here. A stacked bar chart allows us to compare the counts of different room types within each neighborhood group. Each bar represents a neighborhood group, and the segments within each bar represent the counts of different room types, making it easy to see the relative proportions of each room type within each group."
      ],
      "metadata": {
        "id": "iv6ro40sphqO"
      }
    },
    {
      "cell_type": "markdown",
      "source": [
        "##### 2. What is/are the insight(s) found from the chart?"
      ],
      "metadata": {
        "id": "r2jJGEOYphqO"
      }
    },
    {
      "cell_type": "markdown",
      "source": [
        "Answer Here Manhattan: The dominant room type in Manhattan is Entire home/apt\n",
        "\n",
        "Brooklyn: In Brooklyn, Private room listings are the most common, followed closely by Entire home/apt.\n",
        "\n",
        "Queens:Private room listings are the most common in Queens\n",
        "\n",
        "Bronx:Private room is preferred.\n",
        "\n",
        "StatenIsland:Private room is preferred."
      ],
      "metadata": {
        "id": "Po6ZPi4hphqO"
      }
    },
    {
      "cell_type": "markdown",
      "source": [
        "##### 3. Will the gained insights help creating a positive business impact?\n",
        "Are there any insights that lead to negative growth? Justify with specific reason."
      ],
      "metadata": {
        "id": "b0JNsNcRphqO"
      }
    },
    {
      "cell_type": "markdown",
      "source": [
        "Answer Here Hosts can tailor their marketing strategies and listing descriptions to highlight the predominant room types in each neighborhood group.\n",
        "\n",
        "Hosts offering less popular room types may face competition from hosts offering more preferred accommodation options."
      ],
      "metadata": {
        "id": "xvSq8iUTphqO"
      }
    },
    {
      "cell_type": "markdown",
      "source": [
        "#### Chart - 8 - Correlation Heatmap"
      ],
      "metadata": {
        "id": "NC_X3p0fY2L0"
      }
    },
    {
      "cell_type": "code",
      "source": [
        "# Correlation Heatmap visualization code\n",
        "\n",
        "numerical_columns = ['latitude', 'longitude', 'price', 'minimum_nights', 'number_of_reviews',\n",
        "                     'reviews_per_month', 'calculated_host_listings_count', 'availability_365']\n",
        "numeric_df = df[numerical_columns]\n",
        "\n",
        "# Create a correlation matrix\n",
        "correlation_matrix = numeric_df.corr()\n",
        "\n",
        "# Plot the correlation heatmap\n",
        "plt.figure(figsize=(10, 8))\n",
        "sns.heatmap(correlation_matrix, annot=True, cmap='coolwarm')\n",
        "plt.title('Correlation Heatmap')\n",
        "plt.show()"
      ],
      "metadata": {
        "id": "xyC9zolEZNRQ"
      },
      "execution_count": null,
      "outputs": []
    },
    {
      "cell_type": "markdown",
      "source": [
        "##### 1. Why did you pick the specific chart?"
      ],
      "metadata": {
        "id": "UV0SzAkaZNRQ"
      }
    },
    {
      "cell_type": "markdown",
      "source": [
        "Answer Here. A correlation heatmap allows you to quickly identify which pairs of variables are positively or negatively correlated. This can help you understand how changes in one variable affect another and identify potential patterns or dependencies in your data."
      ],
      "metadata": {
        "id": "DVPuT8LYZNRQ"
      }
    },
    {
      "cell_type": "markdown",
      "source": [
        "##### 2. What is/are the insight(s) found from the chart?"
      ],
      "metadata": {
        "id": "YPEH6qLeZNRQ"
      }
    },
    {
      "cell_type": "markdown",
      "source": [
        "Answer Here 'reviews_per_month' variable is highly correlated with 'number_of_reviews' variable. Likewise we can check correlation for other variable."
      ],
      "metadata": {
        "id": "bfSqtnDqZNRR"
      }
    },
    {
      "cell_type": "markdown",
      "source": [
        "#### Chart - 9 - Pair Plot"
      ],
      "metadata": {
        "id": "q29F0dvdveiT"
      }
    },
    {
      "cell_type": "code",
      "source": [
        "# Pair Plot visualization code\n",
        "\n",
        "numeric_columns = ['latitude', 'longitude', 'price', 'minimum_nights', 'number_of_reviews',\n",
        "                   'reviews_per_month', 'calculated_host_listings_count', 'availability_365']\n",
        "numeric_df = df[numeric_columns]\n",
        "\n",
        "# Create a pair plot\n",
        "sns.pairplot(numeric_df)\n",
        "plt.show()"
      ],
      "metadata": {
        "id": "o58-TEIhveiU"
      },
      "execution_count": null,
      "outputs": []
    },
    {
      "cell_type": "markdown",
      "source": [
        "##### 1. Why did you pick the specific chart?"
      ],
      "metadata": {
        "id": "EXh0U9oCveiU"
      }
    },
    {
      "cell_type": "markdown",
      "source": [
        "Answer Here. Pair plots allow you to visualize the pairwise relationships between numerical variables in your dataset. Each scatterplot in the grid represents the relationship between two variables, helping you identify potential correlations or patterns."
      ],
      "metadata": {
        "id": "eMmPjTByveiU"
      }
    },
    {
      "cell_type": "markdown",
      "source": [
        "##### 2. What is/are the insight(s) found from the chart?"
      ],
      "metadata": {
        "id": "22aHeOlLveiV"
      }
    },
    {
      "cell_type": "markdown",
      "source": [
        "Answer Here. There is high correlation between availability_365 variable and latitude and longitude variable.\n",
        "\n",
        "Least correlation between calculated_host_listings_count and reviews_per_month.\n",
        "\n",
        "Likewise with pair plot we can see the relation individually based on target variable"
      ],
      "metadata": {
        "id": "uPQ8RGwHveiV"
      }
    },
    {
      "cell_type": "markdown",
      "source": [
        "## **5. Solution to Business Objective**"
      ],
      "metadata": {
        "id": "JcMwzZxoAimU"
      }
    },
    {
      "cell_type": "markdown",
      "source": [
        "#### What do you suggest the client to achieve Business Objective ?\n",
        "Explain Briefly."
      ],
      "metadata": {
        "id": "8G2x9gOozGDZ"
      }
    },
    {
      "cell_type": "markdown",
      "source": [
        "Answer Here.\n",
        "\n",
        "Adjust pricing strategies based on the average prices for different types of accommodations. For example, consider offering competitive pricing for private and shared rooms while maximizing revenue from entire homes/apartments.\n",
        "Utilize dynamic pricing algorithms to adjust prices based on factors such as demand, seasonality, and competitor prices in specific neighborhoods.\n",
        "\n",
        "Identify opportunities to attract and retain top hosts by offering incentives, such as preferred listing placements or promotional support.\n",
        "Provide host training and resources to improve property management skills, customer service, and guest satisfaction, leading to positive reviews and increased bookings.\n",
        "\n",
        "Focus marketing efforts on promoting entire homes/apartments, the most preferred type of accommodation among guests. Highlight the advantages of booking entire accommodations, such as privacy, amenities, and convenience.\n",
        "Offer incentives or discounts to guests who book entire accommodations to encourage bookings in this category.\n",
        "\n",
        "Allocate resources to enhance offerings in preferred locations such as Manhattan and Williamsburg. This may include expanding the number of listings, improving property amenities, and enhancing the overall guest experience.\n",
        "Collaborate with local businesses and attractions to create value-added experiences for guests staying in preferred locations, increasing the attractiveness of these areas."
      ],
      "metadata": {
        "id": "pASKb0qOza21"
      }
    },
    {
      "cell_type": "markdown",
      "source": [
        "# **Conclusion**"
      ],
      "metadata": {
        "id": "gCX9965dhzqZ"
      }
    },
    {
      "cell_type": "markdown",
      "source": [
        "Write the conclusion here.\n",
        "\n",
        "• Private rooms have the lowest average price among the different accommodation types, while entire homes/apartments have the highest average price. Shared rooms fall in between.\n",
        "\n",
        "• David is the top host for private rooms, Sergii is the top host for shared rooms, and Sonder (NYC) is the top host for entire homes/apartments. These hosts manage the highest number of listings in their respective categories.\n",
        "\n",
        "• The most preferred type of accommodation among guests is entire homes/apartments. This suggests that guests generally prefer having the entire space to themselves rather than sharing with others.\n",
        "\n",
        "• The most preferred location by clients is Manhattan, and the most preferred area is Williamsburg. This indicates that these areas are popular among Airbnb guests, possibly due to their attractions, amenities, or convenience.\n",
        "\n",
        "• Manhattan has the highest availability, indicating a greater number of listings and possibly more options for guests. Conversely, Staten Island has the lowest availability, suggesting fewer listings and potentially higher demand in this area."
      ],
      "metadata": {
        "id": "Fjb1IsQkh3yE"
      }
    },
    {
      "cell_type": "markdown",
      "source": [
        "### ***Hurrah! You have successfully completed your EDA Capstone Project !!!***"
      ],
      "metadata": {
        "id": "gIfDvo9L0UH2"
      }
    }
  ]
}